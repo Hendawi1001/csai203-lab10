{
  "nbformat": 4,
  "nbformat_minor": 0,
  "metadata": {
    "colab": {
      "provenance": []
    },
    "kernelspec": {
      "name": "python3",
      "display_name": "Python 3"
    },
    "language_info": {
      "name": "python"
    }
  },
  "cells": [
    {
      "cell_type": "markdown",
      "source": [
        "# LAB 10 : UNIT TESTING\n",
        "\n",
        "\n",
        "---\n",
        "\n"
      ],
      "metadata": {
        "id": "OGDHB-ra2UHa"
      }
    },
    {
      "cell_type": "markdown",
      "source": [
        "In this lab, we will learn the core concepts of Unit Testing in software development. The purpose of Unit Testing is to validate that individual units of source code, such as functions, methods, or classes, work as intended. Unit testing ensures that small, isolated components of a program behave correctly under different scenarios. Writing unit tests helps developers catch bugs early in the development cycle and maintain code reliability.\n"
      ],
      "metadata": {
        "id": "4kSENe963Abl"
      }
    },
    {
      "cell_type": "markdown",
      "source": [
        "**What is a Unit ?**\n",
        "\n",
        "A unit refers to the smallest testable part of an application. This could be a function, method, or class that performs a specific task. The goal of unit testing is to ensure that each unit works in isolation without depending on other parts of the program.\n"
      ],
      "metadata": {
        "id": "hqFdnzM-3DM-"
      }
    },
    {
      "cell_type": "markdown",
      "source": [
        "**Assertions in Unit Testing**\n",
        "\n",
        "Assertions are conditions or boolean expressions that evaluate whether the output of a unit matches the expected result."
      ],
      "metadata": {
        "id": "JtDzJjXV3IDK"
      }
    },
    {
      "cell_type": "markdown",
      "source": [
        "##**Running Tests Directly (Without unittest)**"
      ],
      "metadata": {
        "id": "YCXn1lqc7kF0"
      }
    },
    {
      "cell_type": "markdown",
      "source": [
        "For example:"
      ],
      "metadata": {
        "id": "Ccrqlr713L9x"
      }
    },
    {
      "cell_type": "code",
      "source": [
        "import unittest\n",
        "def add(a, b):\n",
        "    return a + b\n",
        "\n",
        "# Unit test\n",
        "def test_add():\n",
        "    assert add(2, 3) == 5\n",
        "    assert add(0, 0) == 0\n",
        "    assert add(-1, 1) == 0\n",
        "    print(\"All tests passed!\")\n",
        "if __name__ == \"__main__\":\n",
        "    test_add()"
      ],
      "metadata": {
        "id": "xfNQT0gS2T4F",
        "colab": {
          "base_uri": "https://localhost:8080/"
        },
        "outputId": "be1be9f1-ecf4-4e22-b894-89ddf8b70997"
      },
      "execution_count": 1,
      "outputs": [
        {
          "output_type": "stream",
          "name": "stdout",
          "text": [
            "All tests passed!\n"
          ]
        }
      ]
    },
    {
      "cell_type": "markdown",
      "source": [
        "Here, the assert statement verifies that the add function returns the correct result for various inputs. If the assertion fails, the test reports an error, helping identify issues in the code."
      ],
      "metadata": {
        "id": "mCAghKqK3PBC"
      }
    },
    {
      "cell_type": "markdown",
      "source": [
        "## **Running Tests Using unittest Framework**"
      ],
      "metadata": {
        "id": "JQVZNIIH7r_K"
      }
    },
    {
      "cell_type": "markdown",
      "source": [
        "Example using Python’s unittest:\n"
      ],
      "metadata": {
        "id": "7YNh8K0c3SeO"
      }
    },
    {
      "cell_type": "markdown",
      "source": [
        "Failing tests:"
      ],
      "metadata": {
        "id": "6J2LMIxU8M57"
      }
    },
    {
      "cell_type": "code",
      "source": [
        "import unittest\n",
        "def add(a, b):\n",
        "    return a + b\n",
        "\n",
        "class TestMathOperations(unittest.TestCase):\n",
        "    def test_add(self):\n",
        "        self.assertEqual(add(2, 3), 4)\n",
        "        self.assertEqual(add(-1, 1), 0)\n",
        "\n",
        "if __name__ == \"__main__\":\n",
        "    unittest.main(argv=[''], exit=False)\n"
      ],
      "metadata": {
        "id": "ZvMprNjH2yda",
        "colab": {
          "base_uri": "https://localhost:8080/"
        },
        "outputId": "de0cd223-b80e-4a3d-b628-bed741572c76"
      },
      "execution_count": 2,
      "outputs": [
        {
          "output_type": "stream",
          "name": "stderr",
          "text": [
            "F\n",
            "======================================================================\n",
            "FAIL: test_add (__main__.TestMathOperations)\n",
            "----------------------------------------------------------------------\n",
            "Traceback (most recent call last):\n",
            "  File \"<ipython-input-2-ba1a21695683>\", line 7, in test_add\n",
            "    self.assertEqual(add(2, 3), 4)\n",
            "AssertionError: 5 != 4\n",
            "\n",
            "----------------------------------------------------------------------\n",
            "Ran 1 test in 0.003s\n",
            "\n",
            "FAILED (failures=1)\n"
          ]
        }
      ]
    },
    {
      "cell_type": "markdown",
      "source": [
        "Successfull tests:"
      ],
      "metadata": {
        "id": "fKyJ3xRy8Qwq"
      }
    },
    {
      "cell_type": "code",
      "source": [
        "import unittest\n",
        "def add(a, b):\n",
        "    return a + b\n",
        "\n",
        "class TestMathOperations(unittest.TestCase):\n",
        "    def test_add(self):\n",
        "        self.assertEqual(add(2, 3), 5)\n",
        "        self.assertEqual(add(-1, 1), 0)\n",
        "\n",
        "if __name__ == \"__main__\":\n",
        "    unittest.main(argv=[''], exit=False)"
      ],
      "metadata": {
        "colab": {
          "base_uri": "https://localhost:8080/"
        },
        "id": "cPpplt4Z8Qek",
        "outputId": "7321df3d-3a6a-47cf-866d-3c84dc36f588"
      },
      "execution_count": 3,
      "outputs": [
        {
          "output_type": "stream",
          "name": "stderr",
          "text": [
            ".\n",
            "----------------------------------------------------------------------\n",
            "Ran 1 test in 0.002s\n",
            "\n",
            "OK\n"
          ]
        }
      ]
    },
    {
      "cell_type": "markdown",
      "source": [
        "or use this line:"
      ],
      "metadata": {
        "id": "pkTLlRtJ7-2M"
      }
    },
    {
      "cell_type": "code",
      "source": [
        "unittest.main(argv=[''], exit=False)"
      ],
      "metadata": {
        "colab": {
          "base_uri": "https://localhost:8080/"
        },
        "id": "3RizncaR8Aua",
        "outputId": "96c6e336-8aa2-4869-f5fd-9debe7ab6df1"
      },
      "execution_count": 4,
      "outputs": [
        {
          "output_type": "stream",
          "name": "stderr",
          "text": [
            ".\n",
            "----------------------------------------------------------------------\n",
            "Ran 1 test in 0.003s\n",
            "\n",
            "OK\n"
          ]
        },
        {
          "output_type": "execute_result",
          "data": {
            "text/plain": [
              "<unittest.main.TestProgram at 0x7f9e56a96230>"
            ]
          },
          "metadata": {},
          "execution_count": 4
        }
      ]
    },
    {
      "cell_type": "markdown",
      "source": [
        "Here, the unittest.TestCase class provides methods like assertEqual to validate the output of the function being tested.\n"
      ],
      "metadata": {
        "id": "uCd18NZT3VCL"
      }
    },
    {
      "cell_type": "markdown",
      "source": [
        "**Mocking in Unit Testing**\n",
        "\n",
        "Mocking is a technique used to replace real components (like databases, APIs, or external systems) with simulated versions during testing. This allows you to test a unit in isolation without relying on external dependencies.\n",
        "Example using Python’s unittest.mock:"
      ],
      "metadata": {
        "id": "6WPGH5kV3Xn3"
      }
    },
    {
      "cell_type": "markdown",
      "source": [
        "directly:"
      ],
      "metadata": {
        "id": "M1S8h7Rw8dBV"
      }
    },
    {
      "cell_type": "code",
      "source": [
        "from unittest.mock import Mock\n",
        "\n",
        "# Mocking an external API call\n",
        "api_mock = Mock(return_value={\"status\": \"success\", \"data\": []})\n",
        "response = api_mock()\n",
        "\n",
        "assert response[\"status\"] == \"success\"\n",
        "print(\"Test passed!\")"
      ],
      "metadata": {
        "id": "ZLjUlomG20jJ",
        "colab": {
          "base_uri": "https://localhost:8080/"
        },
        "outputId": "53e4c2f5-f8fb-4eff-c041-bb3c7aaa8c7b"
      },
      "execution_count": 5,
      "outputs": [
        {
          "output_type": "stream",
          "name": "stdout",
          "text": [
            "Test passed!\n"
          ]
        }
      ]
    },
    {
      "cell_type": "markdown",
      "source": [
        "with unittest framework:"
      ],
      "metadata": {
        "id": "7MFbgy0k8grt"
      }
    },
    {
      "cell_type": "code",
      "source": [
        "import unittest\n",
        "from unittest.mock import Mock\n",
        "\n",
        "class TestAPIMock(unittest.TestCase):\n",
        "    def test_api_mock(self):\n",
        "        # Mocking an external API call\n",
        "        api_mock = Mock(return_value={\"status\": \"success\", \"data\": []})\n",
        "        response = api_mock()\n",
        "\n",
        "        # Assertions\n",
        "        self.assertEqual(response[\"status\"], \"success\")\n",
        "        self.assertEqual(response[\"data\"], [])\n",
        "\n",
        "if __name__ == \"__main__\":\n",
        "    unittest.main(argv=[''], exit=False)\n"
      ],
      "metadata": {
        "colab": {
          "base_uri": "https://localhost:8080/"
        },
        "id": "wW4t-B9p8kEl",
        "outputId": "84723b8a-4490-422b-bbe5-97645583c2fd"
      },
      "execution_count": 6,
      "outputs": [
        {
          "output_type": "stream",
          "name": "stderr",
          "text": [
            "..\n",
            "----------------------------------------------------------------------\n",
            "Ran 2 tests in 0.006s\n",
            "\n",
            "OK\n"
          ]
        }
      ]
    },
    {
      "cell_type": "markdown",
      "source": [
        "**Example Problem:**\n",
        "\n",
        "Write a Python function to calculate the factorial of a number and create unit tests for the function.\n"
      ],
      "metadata": {
        "id": "sP-6xryT3fp7"
      }
    },
    {
      "cell_type": "code",
      "source": [
        "import unittest\n",
        "\n",
        "# Function to calculate factorial\n",
        "def factorial(n):\n",
        "    if n == 0 or n == 1:\n",
        "        return 1\n",
        "    return n * factorial(n - 1)\n",
        "\n",
        "# Unit test class\n",
        "class TestFactorialFunction(unittest.TestCase):\n",
        "    def test_factorial(self):\n",
        "        self.assertEqual(factorial(0), 1)  # Factorial of 0\n",
        "        self.assertEqual(factorial(1), 1)  # Factorial of 1\n",
        "        self.assertEqual(factorial(5), 120)  # Factorial of 5\n",
        "        self.assertEqual(factorial(10), 3628800)  # Factorial of 10\n",
        "\n",
        "if __name__ == \"__main__\":\n",
        "    unittest.main(argv=[''], exit=False)\n"
      ],
      "metadata": {
        "id": "43jXOHnu22Qn",
        "colab": {
          "base_uri": "https://localhost:8080/"
        },
        "outputId": "bfeeb779-6c99-4702-d1f5-75cc87b2cf75"
      },
      "execution_count": 7,
      "outputs": [
        {
          "output_type": "stream",
          "name": "stderr",
          "text": [
            "...\n",
            "----------------------------------------------------------------------\n",
            "Ran 3 tests in 0.004s\n",
            "\n",
            "OK\n"
          ]
        }
      ]
    },
    {
      "cell_type": "markdown",
      "source": [
        "Explanation:\n",
        "\n",
        "In this example:\n",
        "\n",
        "The factorial function is the unit under test.\n",
        "The unit tests validate that the function produces correct results for edge cases (n=0, n=1) and general cases (n=5, n=10).\n"
      ],
      "metadata": {
        "id": "pS8RMBxR3llV"
      }
    },
    {
      "cell_type": "markdown",
      "source": [
        "# **Practice:**\n"
      ],
      "metadata": {
        "id": "tRLoc0ma3pTb"
      }
    },
    {
      "cell_type": "markdown",
      "source": [
        "1.Analyze and Debug a Unit Test\n",
        "\n",
        "Below is a unit test written for the function divide_numbers(a, b):"
      ],
      "metadata": {
        "id": "FakJxV-92L74"
      }
    },
    {
      "cell_type": "code",
      "execution_count": 8,
      "metadata": {
        "id": "R_vYfJgt1-5s",
        "colab": {
          "base_uri": "https://localhost:8080/",
          "height": 321
        },
        "outputId": "58d00695-3545-4d14-e5b7-7474bb1ce6b4"
      },
      "outputs": [
        {
          "output_type": "error",
          "ename": "ZeroDivisionError",
          "evalue": "division by zero",
          "traceback": [
            "\u001b[0;31m---------------------------------------------------------------------------\u001b[0m",
            "\u001b[0;31mZeroDivisionError\u001b[0m                         Traceback (most recent call last)",
            "\u001b[0;32m<ipython-input-8-648fbc906aa5>\u001b[0m in \u001b[0;36m<cell line: 10>\u001b[0;34m()\u001b[0m\n\u001b[1;32m      8\u001b[0m     \u001b[0mprint\u001b[0m\u001b[0;34m(\u001b[0m\u001b[0;34m\"passed\"\u001b[0m\u001b[0;34m)\u001b[0m\u001b[0;34m\u001b[0m\u001b[0;34m\u001b[0m\u001b[0m\n\u001b[1;32m      9\u001b[0m \u001b[0;34m\u001b[0m\u001b[0m\n\u001b[0;32m---> 10\u001b[0;31m \u001b[0mtest_divide_numbers\u001b[0m\u001b[0;34m(\u001b[0m\u001b[0;34m)\u001b[0m\u001b[0;34m\u001b[0m\u001b[0;34m\u001b[0m\u001b[0m\n\u001b[0m",
            "\u001b[0;32m<ipython-input-8-648fbc906aa5>\u001b[0m in \u001b[0;36mtest_divide_numbers\u001b[0;34m()\u001b[0m\n\u001b[1;32m      4\u001b[0m \u001b[0;32mdef\u001b[0m \u001b[0mtest_divide_numbers\u001b[0m\u001b[0;34m(\u001b[0m\u001b[0;34m)\u001b[0m\u001b[0;34m:\u001b[0m\u001b[0;34m\u001b[0m\u001b[0;34m\u001b[0m\u001b[0m\n\u001b[1;32m      5\u001b[0m     \u001b[0;32massert\u001b[0m \u001b[0mdivide_numbers\u001b[0m\u001b[0;34m(\u001b[0m\u001b[0;36m10\u001b[0m\u001b[0;34m,\u001b[0m \u001b[0;36m2\u001b[0m\u001b[0;34m)\u001b[0m \u001b[0;34m==\u001b[0m \u001b[0;36m5\u001b[0m\u001b[0;34m\u001b[0m\u001b[0;34m\u001b[0m\u001b[0m\n\u001b[0;32m----> 6\u001b[0;31m     \u001b[0;32massert\u001b[0m \u001b[0mdivide_numbers\u001b[0m\u001b[0;34m(\u001b[0m\u001b[0;36m5\u001b[0m\u001b[0;34m,\u001b[0m \u001b[0;36m0\u001b[0m\u001b[0;34m)\u001b[0m \u001b[0;34m==\u001b[0m \u001b[0;34m\"Undefined\"\u001b[0m  \u001b[0;31m# This is expected to fail\u001b[0m\u001b[0;34m\u001b[0m\u001b[0;34m\u001b[0m\u001b[0m\n\u001b[0m\u001b[1;32m      7\u001b[0m     \u001b[0;32massert\u001b[0m \u001b[0mdivide_numbers\u001b[0m\u001b[0;34m(\u001b[0m\u001b[0;36m0\u001b[0m\u001b[0;34m,\u001b[0m \u001b[0;36m5\u001b[0m\u001b[0;34m)\u001b[0m \u001b[0;34m==\u001b[0m \u001b[0;36m0\u001b[0m\u001b[0;34m\u001b[0m\u001b[0;34m\u001b[0m\u001b[0m\n\u001b[1;32m      8\u001b[0m     \u001b[0mprint\u001b[0m\u001b[0;34m(\u001b[0m\u001b[0;34m\"passed\"\u001b[0m\u001b[0;34m)\u001b[0m\u001b[0;34m\u001b[0m\u001b[0;34m\u001b[0m\u001b[0m\n",
            "\u001b[0;32m<ipython-input-8-648fbc906aa5>\u001b[0m in \u001b[0;36mdivide_numbers\u001b[0;34m(a, b)\u001b[0m\n\u001b[1;32m      1\u001b[0m \u001b[0;32mdef\u001b[0m \u001b[0mdivide_numbers\u001b[0m\u001b[0;34m(\u001b[0m\u001b[0ma\u001b[0m\u001b[0;34m,\u001b[0m \u001b[0mb\u001b[0m\u001b[0;34m)\u001b[0m\u001b[0;34m:\u001b[0m\u001b[0;34m\u001b[0m\u001b[0;34m\u001b[0m\u001b[0m\n\u001b[0;32m----> 2\u001b[0;31m     \u001b[0;32mreturn\u001b[0m \u001b[0ma\u001b[0m \u001b[0;34m/\u001b[0m \u001b[0mb\u001b[0m\u001b[0;34m\u001b[0m\u001b[0;34m\u001b[0m\u001b[0m\n\u001b[0m\u001b[1;32m      3\u001b[0m \u001b[0;31m# Unit test\u001b[0m\u001b[0;34m\u001b[0m\u001b[0;34m\u001b[0m\u001b[0m\n\u001b[1;32m      4\u001b[0m \u001b[0;32mdef\u001b[0m \u001b[0mtest_divide_numbers\u001b[0m\u001b[0;34m(\u001b[0m\u001b[0;34m)\u001b[0m\u001b[0;34m:\u001b[0m\u001b[0;34m\u001b[0m\u001b[0;34m\u001b[0m\u001b[0m\n\u001b[1;32m      5\u001b[0m     \u001b[0;32massert\u001b[0m \u001b[0mdivide_numbers\u001b[0m\u001b[0;34m(\u001b[0m\u001b[0;36m10\u001b[0m\u001b[0;34m,\u001b[0m \u001b[0;36m2\u001b[0m\u001b[0;34m)\u001b[0m \u001b[0;34m==\u001b[0m \u001b[0;36m5\u001b[0m\u001b[0;34m\u001b[0m\u001b[0;34m\u001b[0m\u001b[0m\n",
            "\u001b[0;31mZeroDivisionError\u001b[0m: division by zero"
          ]
        }
      ],
      "source": [
        "def divide_numbers(a, b):\n",
        "    return a / b\n",
        "# Unit test\n",
        "def test_divide_numbers():\n",
        "    assert divide_numbers(10, 2) == 5\n",
        "    assert divide_numbers(5, 0) == \"Undefined\"  # This is expected to fail\n",
        "    assert divide_numbers(0, 5) == 0\n",
        "    print(\"passed\")\n",
        "\n",
        "test_divide_numbers()"
      ]
    },
    {
      "cell_type": "markdown",
      "source": [
        "Write your corrected code below:"
      ],
      "metadata": {
        "id": "zD_kd-rD2QSN"
      }
    },
    {
      "cell_type": "code",
      "source": [],
      "metadata": {
        "id": "pgKTi8NN2JSW"
      },
      "execution_count": null,
      "outputs": []
    },
    {
      "cell_type": "markdown",
      "source": [
        "2.Write unit tests for the following functions:"
      ],
      "metadata": {
        "id": "Q12SohcQ33im"
      }
    },
    {
      "cell_type": "code",
      "source": [
        "def subtract(a, b):\n",
        "    return a - b\n",
        "\n",
        "def divide(a, b):\n",
        "    if b == 0:\n",
        "        raise ValueError(\"Division by zero is not allowed\")\n",
        "    return a / b\n"
      ],
      "metadata": {
        "id": "LvKbKd2833KA"
      },
      "execution_count": 9,
      "outputs": []
    },
    {
      "cell_type": "markdown",
      "source": [
        "\n",
        "Tasks:\n",
        "\n",
        "Test the subtract function with positive, negative, and zero values.\n",
        "\n",
        "Test the divide function with:\n",
        "\n",
        "Normal inputs.\n",
        "\n",
        "Division by zero (should raise an exception)."
      ],
      "metadata": {
        "id": "fpyZ1k_44BE3"
      }
    },
    {
      "cell_type": "code",
      "source": [],
      "metadata": {
        "id": "AmGp7QhJ-5al"
      },
      "execution_count": null,
      "outputs": []
    },
    {
      "cell_type": "markdown",
      "source": [
        "# Requirement\n"
      ],
      "metadata": {
        "id": "p-Mh5KAL4AJy"
      }
    },
    {
      "cell_type": "markdown",
      "source": [
        "## 1. Write Unit Tests from Scratch\n"
      ],
      "metadata": {
        "id": "xzVApvtQ5-JT"
      }
    },
    {
      "cell_type": "markdown",
      "source": [
        "\n",
        "###Function 1: multiply_numbers(a, b)\n",
        "\n",
        "Write a function that multiplies two numbers and test for:\n",
        "\n",
        "Two positive numbers.\n",
        "\n",
        "Multiplication with zero.\n",
        "\n",
        "Negative numbers.\n",
        "\n"
      ],
      "metadata": {
        "id": "UftU1fg84Vu3"
      }
    },
    {
      "cell_type": "code",
      "source": [
        "import unittest\n",
        "def multiply_numbers(a, b):\n",
        "    return a * b"
      ],
      "metadata": {
        "id": "_PI9anTR-8VL"
      },
      "execution_count": 10,
      "outputs": []
    },
    {
      "cell_type": "markdown",
      "source": [
        "###Function 2: reverse_list(input_list)\n",
        "\n",
        "Write a function that reverses a given list and test for:\n",
        "\n",
        "A normal list.\n",
        "\n",
        "An empty list.\n",
        "\n",
        "A single-element list.\n",
        "\n"
      ],
      "metadata": {
        "id": "aflATeGo4caB"
      }
    },
    {
      "cell_type": "code",
      "source": [
        "def reverse_list(input_list):\n",
        "    return input_list[::-1]"
      ],
      "metadata": {
        "id": "pp1e3UD7-9ky"
      },
      "execution_count": 15,
      "outputs": []
    },
    {
      "cell_type": "markdown",
      "source": [
        "##2. Extend Provided Code\n",
        "\n",
        "Function 3: calculate_discount(price, discount_percentage)\n",
        "\n",
        "Extend the function by:\n",
        "\n",
        "Adding a test for valid inputs (e.g., price = 100, discount = 10%).\n",
        "\n",
        "Testing invalid discounts (negative or greater than 100%).\n",
        "\n",
        "Handling zero price or zero discount.\n",
        "\n"
      ],
      "metadata": {
        "id": "4OMo7Gzz4eRH"
      }
    },
    {
      "cell_type": "code",
      "source": [
        "def calculate_discount(price, discount_percentage):\n",
        "    if price < 0 or discount_percentage < 0 or discount_percentage > 100:\n",
        "        raise ValueError(\"Invalid input\")\n",
        "    return price - (price * discount_percentage / 100)"
      ],
      "metadata": {
        "id": "rEqfOUli--45"
      },
      "execution_count": 26,
      "outputs": []
    },
    {
      "cell_type": "code",
      "source": [
        "class TestFunctions(unittest.TestCase):\n",
        "    def test_multiply_numbers(self):\n",
        "        self.assertEqual(multiply_numbers(2, 3), 6)\n",
        "        self.assertEqual(multiply_numbers(0, 10), 0)\n",
        "        self.assertEqual(multiply_numbers(-2, 5), -10)\n",
        "\n",
        "    def test_reverse_list(self):\n",
        "        self.assertEqual(reverse_list([7,5,6,8]), [8,6,5,7])\n",
        "        self.assertEqual(reverse_list([]), [])\n",
        "        self.assertEqual(reverse_list([78]), [78])\n",
        "\n",
        "    def test_calculate_discount(self):\n",
        "        self.assertEqual(calculate_discount(100, 10), 90)\n",
        "        self.assertEqual(calculate_discount(200, 0), 200)\n",
        "        self.assertEqual(calculate_discount(0, 50), 0)\n",
        "        with self.assertRaises(ValueError):\n",
        "            calculate_discount(-100, 10)\n",
        "        with self.assertRaises(ValueError):\n",
        "            calculate_discount(100, -10)\n",
        "        with self.assertRaises(ValueError):\n",
        "            calculate_discount(100, 150)\n",
        "\n",
        "if __name__ == \"__main__\":\n",
        "    unittest.main(argv=[''], exit=False)"
      ],
      "metadata": {
        "colab": {
          "base_uri": "https://localhost:8080/"
        },
        "id": "MXq_ZZdFzMGt",
        "outputId": "cc7feda5-c3d4-425c-85f4-da6bdd5d3404"
      },
      "execution_count": 28,
      "outputs": [
        {
          "output_type": "stream",
          "name": "stderr",
          "text": [
            ".......\n",
            "----------------------------------------------------------------------\n",
            "Ran 7 tests in 0.012s\n",
            "\n",
            "OK\n"
          ]
        }
      ]
    },
    {
      "cell_type": "markdown",
      "source": [
        "##3. Encapsulate in a Class\n",
        "\n",
        "\n",
        "Class: MathOperations\n",
        "\n",
        "Implement a class MathOperations that contains:\n",
        "\n",
        "Method 1: is_prime(n)\n",
        "\n",
        "Check if a number is prime.\n",
        "\n",
        "Test cases:\n",
        "\n",
        "Prime numbers.\n",
        "\n",
        "Non-prime numbers.\n",
        "\n",
        "Edge cases like 0, 1, and negative numbers.\n",
        "\n",
        "Method 2: factorial(n)\n",
        "\n",
        "Compute the factorial of a number.\n",
        "\n",
        "Test cases:\n",
        "\n",
        "Positive integers.\n",
        "\n",
        "Edge case: n = 0 (factorial is 1).\n",
        "\n",
        "Invalid cases: negative numbers."
      ],
      "metadata": {
        "id": "H-Q2zCRD4f4c"
      }
    },
    {
      "cell_type": "code",
      "source": [
        "from math import sqrt\n",
        "class MathOperations():\n",
        "    def is_prime(n):\n",
        "        if n <= 1:\n",
        "            return False\n",
        "        for i in range(2, int(sqrt(n)) + 1):\n",
        "            if n % i == 0:\n",
        "                return False\n",
        "        return True\n",
        "\n",
        "    def factorial(n):\n",
        "        if n < 0:\n",
        "            raise ValueError(\"Negative numbers don't have factorial\")\n",
        "        if n == 0:\n",
        "            return 1\n",
        "        result = 1\n",
        "        for i in range(1, n + 1):\n",
        "            result *= i\n",
        "        return result\n",
        "\n",
        "class TestMathOperations(unittest.TestCase):\n",
        "    def test_is_prime(self):\n",
        "        self.assertTrue(MathOperations.is_prime(7))\n",
        "        self.assertFalse(MathOperations.is_prime(4))\n",
        "        self.assertFalse(MathOperations.is_prime(0))\n",
        "        self.assertFalse(MathOperations.is_prime(1))\n",
        "        self.assertFalse(MathOperations.is_prime(-3))\n",
        "\n",
        "    def test_factorial(self):\n",
        "        self.assertEqual(MathOperations.factorial(5), 120)\n",
        "        self.assertEqual(MathOperations.factorial(0), 1)\n",
        "        with self.assertRaises(ValueError):\n",
        "            MathOperations.factorial(-5)\n",
        "if __name__ == \"__main__\":\n",
        "    unittest.main(argv=[''], exit=False)"
      ],
      "metadata": {
        "id": "_jjXOa_A_A-t",
        "colab": {
          "base_uri": "https://localhost:8080/"
        },
        "outputId": "6787464e-cc2a-47aa-ca2b-8e2bb4dcb1e9"
      },
      "execution_count": 36,
      "outputs": [
        {
          "output_type": "stream",
          "name": "stderr",
          "text": [
            ".......\n",
            "----------------------------------------------------------------------\n",
            "Ran 7 tests in 0.019s\n",
            "\n",
            "OK\n"
          ]
        }
      ]
    }
  ]
}